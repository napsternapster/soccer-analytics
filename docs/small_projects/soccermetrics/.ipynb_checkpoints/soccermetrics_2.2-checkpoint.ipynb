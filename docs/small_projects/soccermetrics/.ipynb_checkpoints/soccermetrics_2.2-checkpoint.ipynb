{
 "cells": [
  {
   "cell_type": "code",
   "execution_count": null,
   "metadata": {},
   "outputs": [],
   "source": [
    "import pandas as pd\n",
    "import scipy.stats\n",
    "import matplotlib.pyplot as plt\n",
    "import seaborn as sns\n",
    "%matplotlib inline"
   ]
  },
  {
   "cell_type": "code",
   "execution_count": 3,
   "metadata": {},
   "outputs": [
    {
     "data": {
      "text/html": [
       "<div>\n",
       "<table border=\"1\" class=\"dataframe\">\n",
       "  <thead>\n",
       "    <tr style=\"text-align: right;\">\n",
       "      <th></th>\n",
       "      <th>points</th>\n",
       "      <th>coach</th>\n",
       "      <th>scored</th>\n",
       "      <th>allowed</th>\n",
       "      <th>xg</th>\n",
       "      <th>xga</th>\n",
       "    </tr>\n",
       "  </thead>\n",
       "  <tbody>\n",
       "    <tr>\n",
       "      <th>0</th>\n",
       "      <td>3</td>\n",
       "      <td>Rodgers</td>\n",
       "      <td>1</td>\n",
       "      <td>0</td>\n",
       "      <td>0.70</td>\n",
       "      <td>0.11</td>\n",
       "    </tr>\n",
       "    <tr>\n",
       "      <th>1</th>\n",
       "      <td>3</td>\n",
       "      <td>Rodgers</td>\n",
       "      <td>1</td>\n",
       "      <td>0</td>\n",
       "      <td>1.26</td>\n",
       "      <td>0.43</td>\n",
       "    </tr>\n",
       "    <tr>\n",
       "      <th>2</th>\n",
       "      <td>1</td>\n",
       "      <td>Rodgers</td>\n",
       "      <td>0</td>\n",
       "      <td>0</td>\n",
       "      <td>1.69</td>\n",
       "      <td>1.23</td>\n",
       "    </tr>\n",
       "    <tr>\n",
       "      <th>3</th>\n",
       "      <td>0</td>\n",
       "      <td>Rodgers</td>\n",
       "      <td>0</td>\n",
       "      <td>3</td>\n",
       "      <td>0.11</td>\n",
       "      <td>1.15</td>\n",
       "    </tr>\n",
       "    <tr>\n",
       "      <th>4</th>\n",
       "      <td>0</td>\n",
       "      <td>Rodgers</td>\n",
       "      <td>1</td>\n",
       "      <td>3</td>\n",
       "      <td>1.64</td>\n",
       "      <td>1.45</td>\n",
       "    </tr>\n",
       "  </tbody>\n",
       "</table>\n",
       "</div>"
      ],
      "text/plain": [
       "   points    coach  scored  allowed    xg   xga\n",
       "0       3  Rodgers       1        0  0.70  0.11\n",
       "1       3  Rodgers       1        0  1.26  0.43\n",
       "2       1  Rodgers       0        0  1.69  1.23\n",
       "3       0  Rodgers       0        3  0.11  1.15\n",
       "4       0  Rodgers       1        3  1.64  1.45"
      ]
     },
     "execution_count": 3,
     "metadata": {},
     "output_type": "execute_result"
    }
   ],
   "source": [
    "liverpool_15_16_data = pd.read_csv('./data/lesson-3.csv')\n",
    "liverpool_15_16_data.head()"
   ]
  },
  {
   "cell_type": "code",
   "execution_count": 5,
   "metadata": {},
   "outputs": [
    {
     "data": {
      "text/html": [
       "<div>\n",
       "<table border=\"1\" class=\"dataframe\">\n",
       "  <thead>\n",
       "    <tr>\n",
       "      <th></th>\n",
       "      <th>points</th>\n",
       "      <th>scored</th>\n",
       "      <th>allowed</th>\n",
       "      <th>xg</th>\n",
       "      <th>xga</th>\n",
       "    </tr>\n",
       "    <tr>\n",
       "      <th></th>\n",
       "      <th>mean</th>\n",
       "      <th>mean</th>\n",
       "      <th>mean</th>\n",
       "      <th>mean</th>\n",
       "      <th>mean</th>\n",
       "    </tr>\n",
       "    <tr>\n",
       "      <th>coach</th>\n",
       "      <th></th>\n",
       "      <th></th>\n",
       "      <th></th>\n",
       "      <th></th>\n",
       "      <th></th>\n",
       "    </tr>\n",
       "  </thead>\n",
       "  <tbody>\n",
       "    <tr>\n",
       "      <th>Klopp</th>\n",
       "      <td>1.444444</td>\n",
       "      <td>1.666667</td>\n",
       "      <td>1.444444</td>\n",
       "      <td>1.400556</td>\n",
       "      <td>1.116111</td>\n",
       "    </tr>\n",
       "    <tr>\n",
       "      <th>Rodgers</th>\n",
       "      <td>1.500000</td>\n",
       "      <td>1.000000</td>\n",
       "      <td>1.250000</td>\n",
       "      <td>1.406250</td>\n",
       "      <td>1.007500</td>\n",
       "    </tr>\n",
       "  </tbody>\n",
       "</table>\n",
       "</div>"
      ],
      "text/plain": [
       "           points    scored   allowed        xg       xga\n",
       "             mean      mean      mean      mean      mean\n",
       "coach                                                    \n",
       "Klopp    1.444444  1.666667  1.444444  1.400556  1.116111\n",
       "Rodgers  1.500000  1.000000  1.250000  1.406250  1.007500"
      ]
     },
     "execution_count": 5,
     "metadata": {},
     "output_type": "execute_result"
    }
   ],
   "source": [
    "by_coach = liverpool_15_16_data.groupby('coach').agg(['mean'])\n",
    "by_coach"
   ]
  },
  {
   "cell_type": "code",
   "execution_count": 37,
   "metadata": {},
   "outputs": [
    {
     "name": "stdout",
     "output_type": "stream",
     "text": [
      "Metric : P-value\n",
      "points : 0.922499139411\n",
      "scored : 0.346248750486\n",
      "allowed : 0.711746162476\n",
      "xg : 0.987435546886\n",
      "xga : 0.768363110602\n"
     ]
    }
   ],
   "source": [
    "klopp_data = liverpool_15_16_data[liverpool_15_16_data.coach == 'Klopp'].drop(['coach'], axis = 1)\n",
    "rodgers_data = liverpool_15_16_data[liverpool_15_16_data.coach == 'Rodgers'].drop(['coach'], axis = 1)\n",
    "\n",
    "print('Metric : P-value')\n",
    "print('----------------')\n",
    "for col in klopp_data.columns:\n",
    "    print(col, ':', scipy.stats.ttest_ind(klopp_data[col], rodgers_data[col])[1])"
   ]
  },
  {
   "cell_type": "code",
   "execution_count": 45,
   "metadata": {},
   "outputs": [
    {
     "data": {
      "text/plain": [
       "<seaborn.axisgrid.PairGrid at 0xb199048>"
      ]
     },
     "execution_count": 45,
     "metadata": {},
     "output_type": "execute_result"
    },
    {
     "data": {
      "image/png": "[encoded data removed]",
      "text/plain": [
       "<matplotlib.figure.Figure at 0xb199128>"
      ]
     },
     "metadata": {},
     "output_type": "display_data"
    }
   ],
   "source": [
    "sns.PairGrid(liverpool_15_16_data, y_vars = [\"coach\"], x_vars = [\"points\", \"xg\", \"xga\"], \n",
    "             aspect = .75, size = 3.5).map(sns.violinplot, palette = \"pastel\")"
   ]
  },
  {
   "cell_type": "code",
   "execution_count": null,
   "metadata": {
    "collapsed": true
   },
   "outputs": [],
   "source": []
  }
 ],
 "metadata": {
  "kernelspec": {
   "display_name": "Python 3",
   "language": "python",
   "name": "python3"
  },
  "language_info": {
   "codemirror_mode": {
    "name": "ipython",
    "version": 3
   },
   "file_extension": ".py",
   "mimetype": "text/x-python",
   "name": "python",
   "nbconvert_exporter": "python",
   "pygments_lexer": "ipython3",
   "version": "3.6.5"
  },
  "varInspector": {
   "cols": {
    "lenName": 16,
    "lenType": 16,
    "lenVar": 40
   },
   "kernels_config": {
    "python": {
     "delete_cmd_postfix": "",
     "delete_cmd_prefix": "del ",
     "library": "var_list.py",
     "varRefreshCmd": "print(var_dic_list())"
    },
    "r": {
     "delete_cmd_postfix": ") ",
     "delete_cmd_prefix": "rm(",
     "library": "var_list.r",
     "varRefreshCmd": "cat(var_dic_list()) "
    }
   },
   "types_to_exclude": [
    "module",
    "function",
    "builtin_function_or_method",
    "instance",
    "_Feature"
   ],
   "window_display": false
  }
 },
 "nbformat": 4,
 "nbformat_minor": 1
}
