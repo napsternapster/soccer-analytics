{
 "metadata": {
  "name": "",
  "signature": "sha256:28b5a0c73cfd160b9bc0d00cb431a33c73b8ab9c4aafb4cb332e482aa9486da6"
 },
 "nbformat": 3,
 "nbformat_minor": 0,
 "worksheets": [
  {
   "cells": [
    {
     "cell_type": "heading",
     "level": 2,
     "metadata": {},
     "source": [
      "Using Python for Football Data Analysis \u2013 Expected Goals and Monte Carlo Simulations"
     ]
    },
    {
     "cell_type": "markdown",
     "metadata": {},
     "source": [
      "Recently there was [a great post by @SteMc74](https://thestatattackblog.wordpress.com/2015/02/24/using-r-for-football-data-analysis-monte-carlo/) outlining how to use R for Expected Goals analysis using Monte Carlo simulations. For me there was one small problem: Some time ago I decided that R and I are sworn enemies. (I have not yet asked R about its thoughts on this state of affairs.) \n",
      "\n",
      "Thus, I set about following the tutorial using Python through an IPython notebook instead. Once I managed to do that, my brain suggested that porting it from my local machine to the internet as a sort of Python version of the tutorial was a good idea. I went along with it - for the most part.\n",
      "\n",
      "The final product assumes a lot more knowledge than the original tutorial. I tried to use the original instructions as far as possible, but did some paraphasing where necessary - along with some interjections of my own. Comments taken verbatim from the original blog post are in italics.\n",
      "\n",
      "Let's begin."
     ]
    },
    {
     "cell_type": "markdown",
     "metadata": {},
     "source": [
      "*OK, so I\u2019m going to try my hand at a tutorial, we\u2019re going to use R to run a Monte Carlo simulation on the expected goal rates of the shots in the Southampton V Liverpool game (23/02/2015), and calculate the win probability of an average team given those chances based on those ExpG numbers. We will then build a bar plot to display that information, and lastly save a PNG image of said bar plot to our hard drive. All contained in one handy script, write the code once, and never have to write it again...*"
     ]
    },
    {
     "cell_type": "markdown",
     "metadata": {},
     "source": [
      "Important links copied from the original tutorial:\n",
      "\n",
      "1. An explanation of [Monte Carlo simulations](http://www.goldsim.com/Web/Introduction/Probabilistic/MonteCarlo/). \n",
      "\n",
      "2. An explanation of [Expected Goals](https://differentgame.wordpress.com/2014/05/19/a-shooting-model-an-expglanation-and-application/).\n",
      "\n",
      "3. A [csv file](https://dl.dropboxusercontent.com/u/3103366/myData.csv) containing the data to be used. "
     ]
    },
    {
     "cell_type": "markdown",
     "metadata": {},
     "source": [
      "First the imports."
     ]
    },
    {
     "cell_type": "code",
     "collapsed": false,
     "input": [
      "import pandas as pd\n",
      "import numpy as np\n",
      "import random"
     ],
     "language": "python",
     "metadata": {},
     "outputs": [],
     "prompt_number": 3
    },
    {
     "cell_type": "markdown",
     "metadata": {},
     "source": [
      "Next the data must be read in."
     ]
    },
    {
     "cell_type": "code",
     "collapsed": false,
     "input": [
      "data = pd.read_csv(\"MyData.csv\")"
     ],
     "language": "python",
     "metadata": {},
     "outputs": [],
     "prompt_number": 4
    },
    {
     "cell_type": "markdown",
     "metadata": {},
     "source": [
      "Let's take a look"
     ]
    },
    {
     "cell_type": "code",
     "collapsed": false,
     "input": [
      "print(data.head())\n",
      "print('\\n')\n",
      "print('The data has',len(data),'records.')"
     ],
     "language": "python",
     "metadata": {},
     "outputs": [
      {
       "output_type": "stream",
       "stream": "stdout",
       "text": [
        "          team      xg  matchID\n",
        "0  Southampton  0.1253        1\n",
        "1    Liverpool  0.3277        1\n",
        "2    Liverpool  0.0452        1\n",
        "3    Liverpool  0.0242        1\n",
        "4  Southampton  0.0456        1\n",
        "\n",
        "\n",
        "The data has 19 records.\n"
       ]
      }
     ],
     "prompt_number": 7
    },
    {
     "cell_type": "markdown",
     "metadata": {},
     "source": [
      "*So we have 3 columns in our csv file. team, xg and matchID. Ignore matchID for the purposes of this tutorial. In a later tutorial, (if there is one!) this will become relevant when we want to loop through a number of different games...*\n",
      "\n",
      "*...Now that we\u2019ve read in our data we can talk about what we need to do. Looking at how the data is constructed usually determines what logic we need to write to extract that data and use it the way we want to use it. We want to use a Monte Carlo simulation, which is basically testing the likelihood an event might happen. The event in our case is whether a goal is scored or not based on our ExpG numbers, which is just the probability of that particular shot being scored based on a number of factors such as location of shot, shot type, pass type etc. etc....*\n",
      "\n",
      "*...There are a number of ways to do this. You only have to spend 10 minutes on stack overflow to realise that every question has multiple correct answers, some more code efficient than others, but it\u2019s worth pointing out, there is more than one way to skin a cat. We will use arrays or vectors as they are called in R, our data table we read in above and a couple of for loops to loop through the table. We use for loops when we know how many times we want to iterate through something like a vector. Vectors/arrays are just numbered lists. So we loop through our data, check who took the shot (Southampton or Liverpool), get a random number, check to see if the random number was less than the ExpG, and if so record that a goal was scored. So let\u2019s declare and initialise some variables and vectors we\u2019re going to use.*"
     ]
    },
    {
     "cell_type": "markdown",
     "metadata": {},
     "source": [
      "I'm going to use lists instead of vectors/arrays."
     ]
    },
    {
     "cell_type": "code",
     "collapsed": false,
     "input": [
      "#Initializing variables\n",
      "\n",
      "homeTeam = 'Southampton'\n",
      "awayTeam = 'Liverpool'\n",
      "outputHomeTeam = []\n",
      "outputAwayTeam = []\n",
      "numberOfTimesToRunSim = 10\n",
      "randomNumber = None\n",
      "countGoalsScoredByHomeTeam = 0\n",
      "countGoalsScoredByAwayTeam = 0"
     ],
     "language": "python",
     "metadata": {},
     "outputs": [],
     "prompt_number": 21
    },
    {
     "cell_type": "markdown",
     "metadata": {},
     "source": [
      "*First our 2 string variables homeTeam and awayTeam will hold a reference to Southampton and Liverpool respectfully. While we loop through the ExpG numbers we will need a way to check who took each individual shot. We\u2019ll use these in an if else statement from within the for loop to check...*\n",
      "\n",
      "*...Now we wouldn\u2019t normally run our sim only 10 times, but leave it as it is for the time being, as we just want to be sure our outputs are what they should be later on. So lets loop through our ExpG numbers. We want to run our loop with numberOfTimesToRunSim, so x is our counter and numberOfTimesToRunSim is our end condition which is set to 10.*"
     ]
    },
    {
     "cell_type": "code",
     "collapsed": false,
     "input": [
      "for i in range(numberOfTimesToRunSim):\n",
      "    print(i)"
     ],
     "language": "python",
     "metadata": {},
     "outputs": [
      {
       "output_type": "stream",
       "stream": "stdout",
       "text": [
        "0\n",
        "1\n",
        "2\n",
        "3\n",
        "4\n",
        "5\n",
        "6\n",
        "7\n",
        "8\n",
        "9\n"
       ]
      }
     ],
     "prompt_number": 7
    },
    {
     "cell_type": "markdown",
     "metadata": {},
     "source": [
      "The tutorial then expands the code snippet above to a nested for loop. The outer loop is for each simulation, and the inner one deals with examining all the records in the data. I'm going to refrain from showing the output. It the code were in the same frame as before, the output would be the numbers 0-18 (there are 19 records in the data) printed out 10 times (the number of simulations)."
     ]
    },
    {
     "cell_type": "code",
     "collapsed": false,
     "input": [
      "for i in range(numberOfTimesToRunSim):    \n",
      "    for j in range(len(data.team)):\n",
      "        print(j)"
     ],
     "language": "python",
     "metadata": {},
     "outputs": [],
     "prompt_number": 10
    },
    {
     "cell_type": "markdown",
     "metadata": {},
     "source": [
      "*Next we need to check which team took each shot with a conditional if else statement.*"
     ]
    },
    {
     "cell_type": "code",
     "collapsed": false,
     "input": [
      "for i in range(numberOfTimesToRunSim):    \n",
      "    for j in range(len(data.team)):\n",
      "        \n",
      "        if data.team.ix[j]==homeTeam:\n",
      "            print('Southampton took the shot')\n",
      " \n",
      "        elif data.team.ix[j]==awayTeam:\n",
      "            print('Liverpool took the shot')          "
     ],
     "language": "python",
     "metadata": {},
     "outputs": [],
     "prompt_number": 10
    },
    {
     "cell_type": "markdown",
     "metadata": {},
     "source": [
      "I'm supressing the output again since it's just 190 print outs of which team took which shot."
     ]
    },
    {
     "cell_type": "markdown",
     "metadata": {},
     "source": [
      "*Now we know which team took each shot we can get the corresponding ExpG value on each row. But first we need to get a random number between 0.0 and 1.0....if our random number is less than our ExpG number for each shot with another if else statement, if so a simulated goal was scored and we add 1 to our countGoalsScoredByHomeTeam or countGoalsScoredByAwayTeam variable. *"
     ]
    },
    {
     "cell_type": "markdown",
     "metadata": {},
     "source": [
      "Here's the update nested for loop, along with output at the end for the goal tallies."
     ]
    },
    {
     "cell_type": "code",
     "collapsed": false,
     "input": [
      "for i in range(numberOfTimesToRunSim):\n",
      "    \n",
      "    for j in range(len(data.team)):\n",
      "        \n",
      "        if data.team.ix[i]==homeTeam:\n",
      "            randomNumber = random.random() #generates a number b/w 0 and 1\n",
      "            \n",
      "            if randomNumber <= data.xg.ix[i]: #Southampton scored            \n",
      "                countGoalsScoredByHomeTeam+=1            \n",
      "            \n",
      "        elif data.team.ix[i]==awayTeam:            \n",
      "            randomNumber = random.random()\n",
      "            \n",
      "            if randomNumber <= data.xg.ix[i]: #Liverpool scored\n",
      "                countGoalsScoredByAwayTeam+=1\n",
      "                \n",
      "print('Goals for Southampton:',countGoalsScoredByHomeTeam)\n",
      "print('Goals for Liverpool:',countGoalsScoredByAwayTeam)"
     ],
     "language": "python",
     "metadata": {},
     "outputs": [
      {
       "output_type": "stream",
       "stream": "stdout",
       "text": [
        "Goals for Southampton: 16\n",
        "Goals for Liverpool: 13\n"
       ]
      }
     ],
     "prompt_number": 20
    },
    {
     "cell_type": "markdown",
     "metadata": {},
     "source": [
      "*But this gives us the number of goals scored in total by each team for the total number of simulations. So homeTeam scored x amount of goals over 10 simulated games. But we need to capture that number at the end of each match simulation so we can work out if that game was won or lost. This is where our outputHomeTeam and outputAwayTeam vectors we initialised earlier come into play. *"
     ]
    },
    {
     "cell_type": "markdown",
     "metadata": {},
     "source": [
      "outputHomeTeam and outputAwayTeam are lists in this case. The idea here is to update the code by resetting the counters once a simulation is done. Thus, the score at the end of each match simulation can be recorded instead of just a cumulative result. This is the final version. (Here I re-traced my steps to re-initialized the variables above.)"
     ]
    },
    {
     "cell_type": "code",
     "collapsed": false,
     "input": [
      "for i in range(numberOfTimesToRunSim):\n",
      "    \n",
      "    for j in range(len(data.team)):\n",
      "        \n",
      "        if data.team.ix[j]==homeTeam:\n",
      "            randomNumber = random.random() #generates a number b/w 0 and 1\n",
      "            \n",
      "            if randomNumber <= data.xg.ix[j]: #Southampton scored\n",
      "                countGoalsScoredByHomeTeam+=1            \n",
      "            \n",
      "        elif data.team.ix[j]==awayTeam:            \n",
      "            randomNumber = random.random()\n",
      "            \n",
      "            if randomNumber <= data.xg.ix[j]: #Liverpool scored\n",
      "                countGoalsScoredByAwayTeam+=1\n",
      "                \n",
      "    #store results          \n",
      "    outputHomeTeam.append(countGoalsScoredByHomeTeam)\n",
      "    outputAwayTeam.append(countGoalsScoredByAwayTeam)\n",
      "    \n",
      "    #reset counters\n",
      "    countGoalsScoredByHomeTeam = 0\n",
      "    countGoalsScoredByAwayTeam = 0\n",
      "    randomNumber = None"
     ],
     "language": "python",
     "metadata": {},
     "outputs": [],
     "prompt_number": 22
    },
    {
     "cell_type": "markdown",
     "metadata": {},
     "source": [
      "outputHomeTeam and outputAwayTeam contain the goals scored by either team across the ten simulations. Here's are the results of each 'match'."
     ]
    },
    {
     "cell_type": "code",
     "collapsed": false,
     "input": [
      "for i in range(len(outputAwayTeam)):\n",
      "    print('Game',i+1,':',homeTeam,outputHomeTeam[i],'-',outputAwayTeam[i],awayTeam)"
     ],
     "language": "python",
     "metadata": {},
     "outputs": [
      {
       "output_type": "stream",
       "stream": "stdout",
       "text": [
        "Game 1 : Southampton 1 - 0 Liverpool\n",
        "Game 2 : Southampton 1 - 0 Liverpool\n",
        "Game 3 : Southampton 0 - 0 Liverpool\n",
        "Game 4 : Southampton 0 - 1 Liverpool\n",
        "Game 5 : Southampton 1 - 0 Liverpool\n",
        "Game 6 : Southampton 1 - 1 Liverpool\n",
        "Game 7 : Southampton 0 - 0 Liverpool\n",
        "Game 8 : Southampton 0 - 0 Liverpool\n",
        "Game 9 : Southampton 1 - 1 Liverpool\n",
        "Game 10 : Southampton 1 - 0 Liverpool\n"
       ]
      }
     ],
     "prompt_number": 23
    },
    {
     "cell_type": "markdown",
     "metadata": {},
     "source": [
      "Now for the percentage of games won."
     ]
    },
    {
     "cell_type": "code",
     "collapsed": false,
     "input": [
      "homeTeamGamesWon = 0\n",
      "awayTeamGamesWon = 0  \n",
      "\n",
      "for i in range(len(outputHomeTeam)):\n",
      "    \n",
      "    if outputAwayTeam[i] > outputHomeTeam[i]:\n",
      "        awayTeamGamesWon+=1\n",
      "        \n",
      "    elif outputAwayTeam[i] < outputHomeTeam[i]:\n",
      "        homeTeamGamesWon+=1\n",
      "        \n",
      "percGamesWonByHomeTeam = 100*homeTeamGamesWon/numberOfTimesToRunSim\n",
      "percGamesWonByAwayTeam = 100*awayTeamGamesWon/numberOfTimesToRunSim\n",
      "percGamesDrawn = 100-(percGamesWonByHomeTeam+percGamesWonByAwayTeam)\n",
      "\n",
      "print('% of games won by ',homeTeam,': ',percGamesWonByHomeTeam)\n",
      "print('% of games won by ',awayTeam,': ',percGamesWonByAwayTeam)\n",
      "print('% of games drawn: ',percGamesDrawn)"
     ],
     "language": "python",
     "metadata": {},
     "outputs": [
      {
       "output_type": "stream",
       "stream": "stdout",
       "text": [
        "% of games won by  Southampton :  40.0\n",
        "% of games won by  Liverpool :  10.0\n",
        "% of games drawn:  50.0\n"
       ]
      }
     ],
     "prompt_number": 24
    },
    {
     "cell_type": "markdown",
     "metadata": {},
     "source": [
      "*Here we just loop through the vectors we saved earlier and check to see if the number of goals scored by one team was greater than the other team, if so record a win for that team. We then calculate the percentages and save them to vectors we will use in our barplot.*"
     ]
    },
    {
     "cell_type": "heading",
     "level": 6,
     "metadata": {},
     "source": [
      "It's plotting time!"
     ]
    },
    {
     "cell_type": "code",
     "collapsed": false,
     "input": [
      "from IPython.display import Image\n",
      "Image(url='http://oyster.ignimgs.com/wordpress/stg.ign.com/2013/05/mighty-morphin-power-rangers-zack.jpg')"
     ],
     "language": "python",
     "metadata": {},
     "outputs": [
      {
       "html": [
        "<img src=\"http://oyster.ignimgs.com/wordpress/stg.ign.com/2013/05/mighty-morphin-power-rangers-zack.jpg\"/>"
       ],
       "metadata": {},
       "output_type": "pyout",
       "prompt_number": 25,
       "text": [
        "<IPython.core.display.Image at 0x74a4668>"
       ]
      }
     ],
     "prompt_number": 25
    },
    {
     "cell_type": "markdown",
     "metadata": {},
     "source": [
      "(Perhaps that was too far to go for a simple joke.)"
     ]
    },
    {
     "cell_type": "markdown",
     "metadata": {},
     "source": [
      "I'm sure there is a simplier way to do this, but this is the way I did it."
     ]
    },
    {
     "cell_type": "code",
     "collapsed": false,
     "input": [
      "#Creating a dataframe with the winning probabilities\n",
      "\n",
      "winPer = {'Team': pd.Series([homeTeam,awayTeam]),'Win Percentage': pd.Series([percGamesWonByHomeTeam/100,percGamesWonByAwayTeam/100])}\n",
      "df = pd.DataFrame(winPer)\n",
      "df = df.set_index(df.Team.values)\n",
      "df = df['Win Percentage']\n",
      "\n",
      "#Making a plot\n",
      "\n",
      "import matplotlib.pyplot as plt\n",
      "%matplotlib inline\n",
      "\n",
      "ax = df.plot(kind='bar',title = 'ExpG Premier League 14/15',legend = False,ylim = [0,.6],figsize = (7,7))\n",
      "ax.set_xlabel('Teams')\n",
      "ax.set_ylabel('Win Probability')"
     ],
     "language": "python",
     "metadata": {},
     "outputs": [
      {
       "metadata": {},
       "output_type": "pyout",
       "prompt_number": 27,
       "text": [
        "<matplotlib.text.Text at 0x7e20780>"
       ]
      },
      {
       "metadata": {},
       "output_type": "display_data",
       "png": "[encoded data removed]",
       "text": [
        "<matplotlib.figure.Figure at 0x749c828>"
       ]
      }
     ],
     "prompt_number": 27
    },
    {
     "cell_type": "markdown",
     "metadata": {},
     "source": [
      "The tutorial has lines of code to save the image as a png file, but this is an IPython notebook, so all I need to do is right-click and save. (Checkmate, R Users.)\n",
      "\n",
      "The power of Monte Carlo simulations as per its two fundamental underlying concepts - the Central Limit Theorem and the Law of Large Numbers -  is that an increase in the number of simulations increases the accuracy of the results. The tutorial recommends doing 20,000. \n",
      "\n",
      "Here's a plot I generated with that many simulations. Southamption's win probability is 0.4895 and Liverpool's is 0.1845."
     ]
    },
    {
     "cell_type": "code",
     "collapsed": false,
     "input": [
      "Image(filename='MC20000.jpg')"
     ],
     "language": "python",
     "metadata": {},
     "outputs": [
      {
       "jpeg": "[encoded data removed]",
       "metadata": {},
       "output_type": "pyout",
       "prompt_number": 2,
       "text": [
        "<IPython.core.display.Image at 0x40c86a0>"
       ]
      }
     ],
     "prompt_number": 2
    },
    {
     "cell_type": "markdown",
     "metadata": {},
     "source": [
      "A final word from the source of this wonderful excercise."
     ]
    },
    {
     "cell_type": "markdown",
     "metadata": {},
     "source": [
      "*...if you have ExpG data from any other game, then the only variables you will need to change are the links to your csv file, the references to the column headers in that file, and the 2 teams you want to test in that match. You can even refactor the code further to minimise the variables you need to change. Reusable code!*\n",
      "\n",
      "*You can also see now how easy it would be to add more games to our csv file. With another for loop and a couple of more variables we could run a season for a particular team and display it. We could also run multiple seasons for a team and calculate the simulated points for each simulated season and display them on a histogram.*"
     ]
    }
   ],
   "metadata": {}
  }
 ]
}
