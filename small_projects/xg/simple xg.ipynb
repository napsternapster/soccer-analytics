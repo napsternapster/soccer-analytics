{
 "cells": [
  {
   "cell_type": "code",
   "execution_count": 55,
   "metadata": {
    "collapsed": false
   },
   "outputs": [
    {
     "name": "stdout",
     "output_type": "stream",
     "text": [
      "9306\n"
     ]
    },
    {
     "data": {
      "text/html": [
       "<div>\n",
       "<table border=\"1\" class=\"dataframe\">\n",
       "  <thead>\n",
       "    <tr style=\"text-align: right;\">\n",
       "      <th></th>\n",
       "      <th>Unnamed: 0</th>\n",
       "      <th>url.x</th>\n",
       "      <th>home_team</th>\n",
       "      <th>away_team</th>\n",
       "      <th>score</th>\n",
       "      <th>competition</th>\n",
       "      <th>full_date</th>\n",
       "      <th>isGoal</th>\n",
       "      <th>isHeader</th>\n",
       "      <th>shotLocation</th>\n",
       "      <th>shooting_team</th>\n",
       "      <th>shooting_opp</th>\n",
       "      <th>shooter</th>\n",
       "      <th>shot_assister</th>\n",
       "    </tr>\n",
       "  </thead>\n",
       "  <tbody>\n",
       "    <tr>\n",
       "      <th>0</th>\n",
       "      <td>780</td>\n",
       "      <td>http://www.bbc.co.uk/sport/0/football/26300991</td>\n",
       "      <td>Southampton</td>\n",
       "      <td>Liverpool</td>\n",
       "      <td>0-3</td>\n",
       "      <td>Premier League</td>\n",
       "      <td>2014-03-01</td>\n",
       "      <td>True</td>\n",
       "      <td>False</td>\n",
       "      <td>Pen</td>\n",
       "      <td>Liverpool</td>\n",
       "      <td>Southampton</td>\n",
       "      <td>Steven Gerrard</td>\n",
       "      <td>NaN</td>\n",
       "    </tr>\n",
       "    <tr>\n",
       "      <th>1</th>\n",
       "      <td>786</td>\n",
       "      <td>http://www.bbc.co.uk/sport/0/football/26300991</td>\n",
       "      <td>Southampton</td>\n",
       "      <td>Liverpool</td>\n",
       "      <td>0-3</td>\n",
       "      <td>Premier League</td>\n",
       "      <td>2014-03-01</td>\n",
       "      <td>False</td>\n",
       "      <td>False</td>\n",
       "      <td>Long</td>\n",
       "      <td>Southampton</td>\n",
       "      <td>Liverpool</td>\n",
       "      <td>Morgan Schneiderlin</td>\n",
       "      <td>NaN</td>\n",
       "    </tr>\n",
       "    <tr>\n",
       "      <th>2</th>\n",
       "      <td>820</td>\n",
       "      <td>http://www.bbc.co.uk/sport/0/football/26300991</td>\n",
       "      <td>Southampton</td>\n",
       "      <td>Liverpool</td>\n",
       "      <td>0-3</td>\n",
       "      <td>Premier League</td>\n",
       "      <td>2014-03-01</td>\n",
       "      <td>False</td>\n",
       "      <td>False</td>\n",
       "      <td>Long</td>\n",
       "      <td>Southampton</td>\n",
       "      <td>Liverpool</td>\n",
       "      <td>Jay Rodriguez</td>\n",
       "      <td>Luke Shaw</td>\n",
       "    </tr>\n",
       "    <tr>\n",
       "      <th>3</th>\n",
       "      <td>830</td>\n",
       "      <td>http://www.bbc.co.uk/sport/0/football/26300991</td>\n",
       "      <td>Southampton</td>\n",
       "      <td>Liverpool</td>\n",
       "      <td>0-3</td>\n",
       "      <td>Premier League</td>\n",
       "      <td>2014-03-01</td>\n",
       "      <td>False</td>\n",
       "      <td>False</td>\n",
       "      <td>Rwide</td>\n",
       "      <td>Liverpool</td>\n",
       "      <td>Southampton</td>\n",
       "      <td>Luis Suarez</td>\n",
       "      <td>Jordan Henderson</td>\n",
       "    </tr>\n",
       "    <tr>\n",
       "      <th>4</th>\n",
       "      <td>832</td>\n",
       "      <td>http://www.bbc.co.uk/sport/0/football/26300991</td>\n",
       "      <td>Southampton</td>\n",
       "      <td>Liverpool</td>\n",
       "      <td>0-3</td>\n",
       "      <td>Premier League</td>\n",
       "      <td>2014-03-01</td>\n",
       "      <td>False</td>\n",
       "      <td>False</td>\n",
       "      <td>Rwide</td>\n",
       "      <td>Liverpool</td>\n",
       "      <td>Southampton</td>\n",
       "      <td>Jordan Henderson</td>\n",
       "      <td>NaN</td>\n",
       "    </tr>\n",
       "  </tbody>\n",
       "</table>\n",
       "</div>"
      ],
      "text/plain": [
       "   Unnamed: 0                                           url.x    home_team  \\\n",
       "0         780  http://www.bbc.co.uk/sport/0/football/26300991  Southampton   \n",
       "1         786  http://www.bbc.co.uk/sport/0/football/26300991  Southampton   \n",
       "2         820  http://www.bbc.co.uk/sport/0/football/26300991  Southampton   \n",
       "3         830  http://www.bbc.co.uk/sport/0/football/26300991  Southampton   \n",
       "4         832  http://www.bbc.co.uk/sport/0/football/26300991  Southampton   \n",
       "\n",
       "   away_team score     competition   full_date isGoal isHeader shotLocation  \\\n",
       "0  Liverpool   0-3  Premier League  2014-03-01   True    False          Pen   \n",
       "1  Liverpool   0-3  Premier League  2014-03-01  False    False         Long   \n",
       "2  Liverpool   0-3  Premier League  2014-03-01  False    False         Long   \n",
       "3  Liverpool   0-3  Premier League  2014-03-01  False    False        Rwide   \n",
       "4  Liverpool   0-3  Premier League  2014-03-01  False    False        Rwide   \n",
       "\n",
       "  shooting_team shooting_opp              shooter     shot_assister  \n",
       "0     Liverpool  Southampton       Steven Gerrard               NaN  \n",
       "1   Southampton    Liverpool  Morgan Schneiderlin               NaN  \n",
       "2   Southampton    Liverpool        Jay Rodriguez         Luke Shaw  \n",
       "3     Liverpool  Southampton          Luis Suarez  Jordan Henderson  \n",
       "4     Liverpool  Southampton     Jordan Henderson               NaN  "
      ]
     },
     "execution_count": 55,
     "metadata": {},
     "output_type": "execute_result"
    }
   ],
   "source": [
    "import pandas as pd\n",
    "import numpy as np\n",
    "\n",
    "data = pd.read_csv('EPLShots.csv')\n",
    "print(len(data))\n",
    "data.head()"
   ]
  },
  {
   "cell_type": "code",
   "execution_count": 56,
   "metadata": {
    "collapsed": false
   },
   "outputs": [
    {
     "data": {
      "text/plain": [
       "1    6979\n",
       "0    2327\n",
       "Name: assisted, dtype: int64"
      ]
     },
     "execution_count": 56,
     "metadata": {},
     "output_type": "execute_result"
    }
   ],
   "source": [
    "data['assisted'] = data.shot_assister.map(lambda x: 0 if pd.isnull(x) else 1)\n",
    "data.assisted.value_counts()"
   ]
  },
  {
   "cell_type": "code",
   "execution_count": 57,
   "metadata": {
    "collapsed": false
   },
   "outputs": [
    {
     "data": {
      "text/plain": [
       "0    8362\n",
       "1     944\n",
       "Name: isGoal, dtype: int64"
      ]
     },
     "execution_count": 57,
     "metadata": {},
     "output_type": "execute_result"
    }
   ],
   "source": [
    "data['isGoal'] = data.isGoal.map(lambda x: int(x))\n",
    "data.isGoal.value_counts()"
   ]
  },
  {
   "cell_type": "code",
   "execution_count": 58,
   "metadata": {
    "collapsed": false
   },
   "outputs": [
    {
     "data": {
      "text/plain": [
       "0    7932\n",
       "1    1374\n",
       "Name: isHeader, dtype: int64"
      ]
     },
     "execution_count": 58,
     "metadata": {},
     "output_type": "execute_result"
    }
   ],
   "source": [
    "data['isHeader'] = data.isHeader.map(lambda x: int(x))\n",
    "data.isHeader.value_counts()"
   ]
  },
  {
   "cell_type": "code",
   "execution_count": 59,
   "metadata": {
    "collapsed": false
   },
   "outputs": [
    {
     "data": {
      "text/plain": [
       "Index([u'isGoal', u'isHeader', u'shotLocation', u'assisted'], dtype='object')"
      ]
     },
     "execution_count": 59,
     "metadata": {},
     "output_type": "execute_result"
    }
   ],
   "source": [
    "data.drop(['Unnamed: 0', 'url.x', 'home_team', 'away_team', 'competition', 'full_date', 'shooting_team',\n",
    "          'shooting_opp', 'shooter', 'score', 'shot_assister'], inplace = True, axis = 1)\n",
    "data.columns"
   ]
  },
  {
   "cell_type": "code",
   "execution_count": 60,
   "metadata": {
    "collapsed": false
   },
   "outputs": [
    {
     "data": {
      "text/plain": [
       "Index([u'isGoal', u'isHeader', u'assisted', u'shotLocation_Central',\n",
       "       u'shotLocation_Close', u'shotLocation_Long', u'shotLocation_Lwide',\n",
       "       u'shotLocation_Pen', u'shotLocation_Rwide'],\n",
       "      dtype='object')"
      ]
     },
     "execution_count": 60,
     "metadata": {},
     "output_type": "execute_result"
    }
   ],
   "source": [
    "data = pd.concat([data, pd.get_dummies(data[['shotLocation']])], axis = 1)\n",
    "data.drop(['shotLocation'], axis = 1, inplace = True)\n",
    "data.columns"
   ]
  },
  {
   "cell_type": "code",
   "execution_count": 62,
   "metadata": {
    "collapsed": false
   },
   "outputs": [
    {
     "name": "stdout",
     "output_type": "stream",
     "text": [
      "isGoal                  0\n",
      "isHeader                0\n",
      "assisted                0\n",
      "shotLocation_Central    0\n",
      "shotLocation_Close      0\n",
      "shotLocation_Long       0\n",
      "shotLocation_Lwide      0\n",
      "shotLocation_Pen        0\n",
      "shotLocation_Rwide      0\n",
      "dtype: int64\n"
     ]
    }
   ],
   "source": [
    "print(data.isnull().sum())"
   ]
  },
  {
   "cell_type": "markdown",
   "metadata": {},
   "source": [
    "Baseline accuracy is 89% if a goal is not predicted."
   ]
  },
  {
   "cell_type": "code",
   "execution_count": 68,
   "metadata": {
    "collapsed": false
   },
   "outputs": [
    {
     "data": {
      "text/plain": [
       "0    0.89856\n",
       "1    0.10144\n",
       "Name: isGoal, dtype: float64"
      ]
     },
     "execution_count": 68,
     "metadata": {},
     "output_type": "execute_result"
    }
   ],
   "source": [
    "data.isGoal.value_counts(normalize = True)"
   ]
  },
  {
   "cell_type": "code",
   "execution_count": 65,
   "metadata": {
    "collapsed": false
   },
   "outputs": [],
   "source": [
    "from sklearn.model_selection import train_test_split\n",
    "from sklearn.tree import DecisionTreeClassifier\n",
    "\n",
    "clf_tree = DecisionTreeClassifier()\n",
    "X = data.drop(['isGoal'], axis = 1)\n",
    "y = data.isGoal\n",
    "X_train, X_test, y_train, y_test = train_test_split(X, \n",
    "                                                    y, \n",
    "                                                    train_size = .75,\n",
    "                                                    stratify = y,\n",
    "                                                    random_state = 8)"
   ]
  },
  {
   "cell_type": "code",
   "execution_count": 66,
   "metadata": {
    "collapsed": false
   },
   "outputs": [
    {
     "name": "stdout",
     "output_type": "stream",
     "text": [
      "0.907149720608\n",
      "0.00394839029545\n"
     ]
    }
   ],
   "source": [
    "from sklearn.model_selection import cross_val_score\n",
    "cv_scores_tree = cross_val_score(DecisionTreeClassifier(), X_train, y_train, cv = 10)\n",
    "print(np.mean(cv_scores_tree))\n",
    "print(np.std(cv_scores_tree))"
   ]
  },
  {
   "cell_type": "markdown",
   "metadata": {},
   "source": [
    "Cross validation scores are about 91% which is not a good lift from the baseline accuracy. "
   ]
  },
  {
   "cell_type": "code",
   "execution_count": 70,
   "metadata": {
    "collapsed": false
   },
   "outputs": [
    {
     "data": {
      "text/plain": [
       "array([[6259,   12],\n",
       "       [ 636,   72]])"
      ]
     },
     "execution_count": 70,
     "metadata": {},
     "output_type": "execute_result"
    }
   ],
   "source": [
    "from sklearn.metrics import confusion_matrix as cm\n",
    "clf_tree.fit(X_train, y_train)\n",
    "cm_tree = cm(y_train, clf_tree.predict(X_train))\n",
    "cm_tree"
   ]
  },
  {
   "cell_type": "markdown",
   "metadata": {},
   "source": [
    "Really bad at predicting goals. A lot of false negatives."
   ]
  },
  {
   "cell_type": "code",
   "execution_count": 77,
   "metadata": {
    "collapsed": false
   },
   "outputs": [
    {
     "data": {
      "text/plain": [
       "Index([u'isGoal', u'isHeader', u'assisted', u'shotLocation_Central',\n",
       "       u'shotLocation_Close', u'shotLocation_Long', u'shotLocation_Lwide',\n",
       "       u'shotLocation_Pen', u'shotLocation_Rwide'],\n",
       "      dtype='object')"
      ]
     },
     "execution_count": 77,
     "metadata": {},
     "output_type": "execute_result"
    }
   ],
   "source": [
    "data.columns"
   ]
  },
  {
   "cell_type": "code",
   "execution_count": null,
   "metadata": {
    "collapsed": true
   },
   "outputs": [],
   "source": [
    ""
   ]
  }
 ],
 "metadata": {
  "kernelspec": {
   "display_name": "Python 2",
   "language": "python",
   "name": "python2"
  },
  "language_info": {
   "codemirror_mode": {
    "name": "ipython",
    "version": 2.0
   },
   "file_extension": ".py",
   "mimetype": "text/x-python",
   "name": "python",
   "nbconvert_exporter": "python",
   "pygments_lexer": "ipython2",
   "version": "2.7.13"
  }
 },
 "nbformat": 4,
 "nbformat_minor": 0
}